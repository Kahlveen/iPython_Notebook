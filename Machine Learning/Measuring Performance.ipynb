{
 "cells": [
  {
   "cell_type": "markdown",
   "metadata": {},
   "source": [
    "### Ways to measure ML algo performance\n",
    "\n",
    "This notebook consolidates the various ways to measure the performance of a machine learning algorithm. All of these stuff can be found from the web, and is consolidated here for easy reference.\n",
    "\n",
    "For greater example details, refer to the following notebooks:\n",
    "* udacity_deeplearning/1_notmnist.ipynb"
   ]
  },
  {
   "cell_type": "code",
   "execution_count": 7,
   "metadata": {
    "collapsed": false
   },
   "outputs": [
    {
     "data": {
      "text/plain": [
       "array([[2, 0, 1],\n",
       "       [0, 0, 1],\n",
       "       [1, 0, 2]])"
      ]
     },
     "execution_count": 7,
     "metadata": {},
     "output_type": "execute_result"
    }
   ],
   "source": [
    "# Confusion Matrix from sklearn\n",
    "from sklearn.metrics import confusion_matrix\n",
    "\n",
    "# Class labels\n",
    "y_true = [2,0,2,2,0,1,0]\n",
    "y_pred = [0,0,2,2,2,2,0]\n",
    "\n",
    "# element i,j is the number of observations actually in group i, but\n",
    "# predicted to be in group j\n",
    "confusion_matrix(y_true,y_pred)"
   ]
  },
  {
   "cell_type": "code",
   "execution_count": 9,
   "metadata": {
    "collapsed": false
   },
   "outputs": [
    {
     "name": "stdout",
     "output_type": "stream",
     "text": [
      "             precision    recall  f1-score   support\n",
      "\n",
      "          0       0.67      0.67      0.67         3\n",
      "          1       0.00      0.00      0.00         1\n",
      "          2       0.50      0.67      0.57         3\n",
      "\n",
      "avg / total       0.50      0.57      0.53         7\n",
      "\n"
     ]
    },
    {
     "name": "stderr",
     "output_type": "stream",
     "text": [
      "//anaconda/lib/python3.5/site-packages/sklearn/metrics/classification.py:1074: UndefinedMetricWarning: Precision and F-score are ill-defined and being set to 0.0 in labels with no predicted samples.\n",
      "  'precision', 'predicted', average, warn_for)\n"
     ]
    }
   ],
   "source": [
    "# Classification report from sklearn\n",
    "from sklearn.metrics import classification_report\n",
    "\n",
    "# given class 0 is predicted n times, correct m times\n",
    "# precision = m/n * 100\n",
    "print(classification_report(y_true,y_pred))"
   ]
  },
  {
   "cell_type": "code",
   "execution_count": null,
   "metadata": {
    "collapsed": true
   },
   "outputs": [],
   "source": []
  }
 ],
 "metadata": {
  "kernelspec": {
   "display_name": "Python [Root]",
   "language": "python",
   "name": "Python [Root]"
  },
  "language_info": {
   "codemirror_mode": {
    "name": "ipython",
    "version": 3
   },
   "file_extension": ".py",
   "mimetype": "text/x-python",
   "name": "python",
   "nbconvert_exporter": "python",
   "pygments_lexer": "ipython3",
   "version": "3.5.2"
  }
 },
 "nbformat": 4,
 "nbformat_minor": 0
}
