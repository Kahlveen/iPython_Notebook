{
 "cells": [
  {
   "cell_type": "markdown",
   "metadata": {},
   "source": [
    "### Python Basics Cheatsheet \n",
    "\n",
    "All of these stuff could be found on the web, e.g, Numpy documentation or StackOverFlow. This notebook is a consolidation of some of the nuances or details that is not so easily found for easy reference. \n",
    "\n",
    "Preceding each segment would be a markdown cell that indicates what that section contains for easy search and reference.\n",
    "\n",
    "\n",
    "#### Index\n",
    "* Timing operations\n",
    "* Numpy Array Operations\n",
    "    * Reshape array \n",
    "        * [Flatten Ndarray to 1D](#flatten_nd_to_1d)\n",
    "        * [Reshape array of Ndarray to array of 1d array](#reshape_array_nd_to_array_1d)"
   ]
  },
  {
   "cell_type": "code",
   "execution_count": 21,
   "metadata": {
    "collapsed": false
   },
   "outputs": [
    {
     "name": "stdout",
     "output_type": "stream",
     "text": [
      "0.010950000000000015\n"
     ]
    }
   ],
   "source": [
    "import time\n",
    "j = 0\n",
    "start = time.clock()\n",
    "for i in range(100000):\n",
    "    j += 1\n",
    "end = time.clock()\n",
    "print(end-start)\n"
   ]
  },
  {
   "cell_type": "markdown",
   "metadata": {},
   "source": [
    "<a id='flatten_nd_to_1d'>Flatten Ndarray to 1D</a>"
   ]
  },
  {
   "cell_type": "code",
   "execution_count": 14,
   "metadata": {
    "collapsed": false
   },
   "outputs": [
    {
     "name": "stdout",
     "output_type": "stream",
     "text": [
      "Flatten...\n",
      "b: [9 2 3 4 5 6 7 8 9]\n",
      "a: [[1 2 3]\n",
      " [4 5 6]\n",
      " [7 8 9]] \n",
      "\n",
      "Flat...\n",
      "a: [[10  2  3]\n",
      " [ 4  5  6]\n",
      " [ 7  8  9]]\n"
     ]
    }
   ],
   "source": [
    "import numpy as np\n",
    "\n",
    "a = np.array([[1,2,3],[4,5,6],[7,8,9]])\n",
    "\n",
    "# np.flatten, copies a into b\n",
    "b = a.flatten()\n",
    "b[0] = 9\n",
    "print('Flatten...')\n",
    "print(\"b:\", b)\n",
    "print(\"a:\", a, \"\\n\")\n",
    "\n",
    "# np.flat, returns a 1D iterator. i.e. by reference\n",
    "c = a.flat\n",
    "c[0] = 10\n",
    "print('Flat...')\n",
    "print(\"a:\",a)\n",
    "\n"
   ]
  },
  {
   "cell_type": "markdown",
   "metadata": {},
   "source": [
    "<a id='reshape_array_nd_to_array_1d'>Reshape array of ndarray to array of 1D</a>"
   ]
  },
  {
   "cell_type": "code",
   "execution_count": 15,
   "metadata": {
    "collapsed": false
   },
   "outputs": [
    {
     "name": "stdout",
     "output_type": "stream",
     "text": [
      "(3, 2, 2)\n",
      "(3, 4)\n",
      "[[ 1  2  3  4]\n",
      " [ 5  6  7  8]\n",
      " [ 9 10 11 12]]\n"
     ]
    }
   ],
   "source": [
    "# Reshape array of ndarrays into array of 1D arrays\n",
    "\n",
    "# (3,2,2)\n",
    "arr_nd = np.array([[[1,2],[3,4]],[[5,6],[7,8]],[[9,10],[11,12]]])\n",
    "print(arr_nd.shape)\n",
    "\n",
    "# (3,4)\n",
    "arr_1d = np.reshape(arr_nd,(3,4))\n",
    "print(arr_1d.shape)\n",
    "print(arr_1d)"
   ]
  },
  {
   "cell_type": "code",
   "execution_count": null,
   "metadata": {
    "collapsed": true
   },
   "outputs": [],
   "source": []
  }
 ],
 "metadata": {
  "kernelspec": {
   "display_name": "Python [Root]",
   "language": "python",
   "name": "Python [Root]"
  },
  "language_info": {
   "codemirror_mode": {
    "name": "ipython",
    "version": 3
   },
   "file_extension": ".py",
   "mimetype": "text/x-python",
   "name": "python",
   "nbconvert_exporter": "python",
   "pygments_lexer": "ipython3",
   "version": "3.5.2"
  }
 },
 "nbformat": 4,
 "nbformat_minor": 0
}
